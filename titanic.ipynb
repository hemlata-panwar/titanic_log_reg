{
  "nbformat": 4,
  "nbformat_minor": 0,
  "metadata": {
    "colab": {
      "provenance": []
    },
    "kernelspec": {
      "name": "python3",
      "display_name": "Python 3"
    },
    "language_info": {
      "name": "python"
    }
  },
  "cells": [
    {
      "cell_type": "code",
      "execution_count": 1,
      "metadata": {
        "id": "YtXOlFnpo9GG"
      },
      "outputs": [],
      "source": [
        "#important libraries\n",
        "import pandas as pd\n",
        "import numpy as np\n",
        "import matplotlib.pyplot as plt\n",
        "from pandas.plotting import scatter_matrix\n",
        "%matplotlib inline\n",
        "\n",
        "import seaborn as sns\n",
        "sns.set(style=\"white\",color_codes=True)\n",
        "sns.set(font_scale=1.5)\n",
        "\n",
        "from sklearn.linear_model import LogisticRegression\n",
        "from sklearn.model_selection import train_test_split\n",
        "\n",
        "from sklearn.metrics import confusion_matrix\n",
        "from sklearn.metrics import classification_report\n",
        "from sklearn.metrics import accuracy_score, precision_score ,recall_score\n",
        "from sklearn.metrics import f1_score\n",
        "from sklearn import metrics "
      ]
    },
    {
      "cell_type": "code",
      "source": [
        "# csv file data_reading\n",
        "tt_train=pd.read_csv(\"/content/titanic_train.csv\")"
      ],
      "metadata": {
        "id": "QKYztI4uqwk4"
      },
      "execution_count": 2,
      "outputs": []
    },
    {
      "cell_type": "code",
      "source": [
        "tt_train.shape"
      ],
      "metadata": {
        "colab": {
          "base_uri": "https://localhost:8080/"
        },
        "id": "sIgaETijreMw",
        "outputId": "b55f6813-3483-4ff0-d57f-3a8ef5f1ebf6"
      },
      "execution_count": 3,
      "outputs": [
        {
          "output_type": "execute_result",
          "data": {
            "text/plain": [
              "(891, 12)"
            ]
          },
          "metadata": {},
          "execution_count": 3
        }
      ]
    },
    {
      "cell_type": "code",
      "source": [
        "tt_train.head()"
      ],
      "metadata": {
        "colab": {
          "base_uri": "https://localhost:8080/",
          "height": 320
        },
        "id": "VJVeMNqRribT",
        "outputId": "41c129f5-ea3b-4896-8719-c503649c15b8"
      },
      "execution_count": 4,
      "outputs": [
        {
          "output_type": "execute_result",
          "data": {
            "text/plain": [
              "   PassengerId  Survived  Pclass  \\\n",
              "0            1         0       3   \n",
              "1            2         1       1   \n",
              "2            3         1       3   \n",
              "3            4         1       1   \n",
              "4            5         0       3   \n",
              "\n",
              "                                                Name     Sex   Age  SibSp  \\\n",
              "0                            Braund, Mr. Owen Harris    male  22.0      1   \n",
              "1  Cumings, Mrs. John Bradley (Florence Briggs Th...  female  38.0      1   \n",
              "2                             Heikkinen, Miss. Laina  female  26.0      0   \n",
              "3       Futrelle, Mrs. Jacques Heath (Lily May Peel)  female  35.0      1   \n",
              "4                           Allen, Mr. William Henry    male  35.0      0   \n",
              "\n",
              "   Parch            Ticket     Fare Cabin Embarked  \n",
              "0      0         A/5 21171   7.2500   NaN        S  \n",
              "1      0          PC 17599  71.2833   C85        C  \n",
              "2      0  STON/O2. 3101282   7.9250   NaN        S  \n",
              "3      0            113803  53.1000  C123        S  \n",
              "4      0            373450   8.0500   NaN        S  "
            ],
            "text/html": [
              "\n",
              "  <div id=\"df-3e7ec54b-32db-4cb8-9b4a-05628d192d0c\">\n",
              "    <div class=\"colab-df-container\">\n",
              "      <div>\n",
              "<style scoped>\n",
              "    .dataframe tbody tr th:only-of-type {\n",
              "        vertical-align: middle;\n",
              "    }\n",
              "\n",
              "    .dataframe tbody tr th {\n",
              "        vertical-align: top;\n",
              "    }\n",
              "\n",
              "    .dataframe thead th {\n",
              "        text-align: right;\n",
              "    }\n",
              "</style>\n",
              "<table border=\"1\" class=\"dataframe\">\n",
              "  <thead>\n",
              "    <tr style=\"text-align: right;\">\n",
              "      <th></th>\n",
              "      <th>PassengerId</th>\n",
              "      <th>Survived</th>\n",
              "      <th>Pclass</th>\n",
              "      <th>Name</th>\n",
              "      <th>Sex</th>\n",
              "      <th>Age</th>\n",
              "      <th>SibSp</th>\n",
              "      <th>Parch</th>\n",
              "      <th>Ticket</th>\n",
              "      <th>Fare</th>\n",
              "      <th>Cabin</th>\n",
              "      <th>Embarked</th>\n",
              "    </tr>\n",
              "  </thead>\n",
              "  <tbody>\n",
              "    <tr>\n",
              "      <th>0</th>\n",
              "      <td>1</td>\n",
              "      <td>0</td>\n",
              "      <td>3</td>\n",
              "      <td>Braund, Mr. Owen Harris</td>\n",
              "      <td>male</td>\n",
              "      <td>22.0</td>\n",
              "      <td>1</td>\n",
              "      <td>0</td>\n",
              "      <td>A/5 21171</td>\n",
              "      <td>7.2500</td>\n",
              "      <td>NaN</td>\n",
              "      <td>S</td>\n",
              "    </tr>\n",
              "    <tr>\n",
              "      <th>1</th>\n",
              "      <td>2</td>\n",
              "      <td>1</td>\n",
              "      <td>1</td>\n",
              "      <td>Cumings, Mrs. John Bradley (Florence Briggs Th...</td>\n",
              "      <td>female</td>\n",
              "      <td>38.0</td>\n",
              "      <td>1</td>\n",
              "      <td>0</td>\n",
              "      <td>PC 17599</td>\n",
              "      <td>71.2833</td>\n",
              "      <td>C85</td>\n",
              "      <td>C</td>\n",
              "    </tr>\n",
              "    <tr>\n",
              "      <th>2</th>\n",
              "      <td>3</td>\n",
              "      <td>1</td>\n",
              "      <td>3</td>\n",
              "      <td>Heikkinen, Miss. Laina</td>\n",
              "      <td>female</td>\n",
              "      <td>26.0</td>\n",
              "      <td>0</td>\n",
              "      <td>0</td>\n",
              "      <td>STON/O2. 3101282</td>\n",
              "      <td>7.9250</td>\n",
              "      <td>NaN</td>\n",
              "      <td>S</td>\n",
              "    </tr>\n",
              "    <tr>\n",
              "      <th>3</th>\n",
              "      <td>4</td>\n",
              "      <td>1</td>\n",
              "      <td>1</td>\n",
              "      <td>Futrelle, Mrs. Jacques Heath (Lily May Peel)</td>\n",
              "      <td>female</td>\n",
              "      <td>35.0</td>\n",
              "      <td>1</td>\n",
              "      <td>0</td>\n",
              "      <td>113803</td>\n",
              "      <td>53.1000</td>\n",
              "      <td>C123</td>\n",
              "      <td>S</td>\n",
              "    </tr>\n",
              "    <tr>\n",
              "      <th>4</th>\n",
              "      <td>5</td>\n",
              "      <td>0</td>\n",
              "      <td>3</td>\n",
              "      <td>Allen, Mr. William Henry</td>\n",
              "      <td>male</td>\n",
              "      <td>35.0</td>\n",
              "      <td>0</td>\n",
              "      <td>0</td>\n",
              "      <td>373450</td>\n",
              "      <td>8.0500</td>\n",
              "      <td>NaN</td>\n",
              "      <td>S</td>\n",
              "    </tr>\n",
              "  </tbody>\n",
              "</table>\n",
              "</div>\n",
              "      <button class=\"colab-df-convert\" onclick=\"convertToInteractive('df-3e7ec54b-32db-4cb8-9b4a-05628d192d0c')\"\n",
              "              title=\"Convert this dataframe to an interactive table.\"\n",
              "              style=\"display:none;\">\n",
              "        \n",
              "  <svg xmlns=\"http://www.w3.org/2000/svg\" height=\"24px\"viewBox=\"0 0 24 24\"\n",
              "       width=\"24px\">\n",
              "    <path d=\"M0 0h24v24H0V0z\" fill=\"none\"/>\n",
              "    <path d=\"M18.56 5.44l.94 2.06.94-2.06 2.06-.94-2.06-.94-.94-2.06-.94 2.06-2.06.94zm-11 1L8.5 8.5l.94-2.06 2.06-.94-2.06-.94L8.5 2.5l-.94 2.06-2.06.94zm10 10l.94 2.06.94-2.06 2.06-.94-2.06-.94-.94-2.06-.94 2.06-2.06.94z\"/><path d=\"M17.41 7.96l-1.37-1.37c-.4-.4-.92-.59-1.43-.59-.52 0-1.04.2-1.43.59L10.3 9.45l-7.72 7.72c-.78.78-.78 2.05 0 2.83L4 21.41c.39.39.9.59 1.41.59.51 0 1.02-.2 1.41-.59l7.78-7.78 2.81-2.81c.8-.78.8-2.07 0-2.86zM5.41 20L4 18.59l7.72-7.72 1.47 1.35L5.41 20z\"/>\n",
              "  </svg>\n",
              "      </button>\n",
              "      \n",
              "  <style>\n",
              "    .colab-df-container {\n",
              "      display:flex;\n",
              "      flex-wrap:wrap;\n",
              "      gap: 12px;\n",
              "    }\n",
              "\n",
              "    .colab-df-convert {\n",
              "      background-color: #E8F0FE;\n",
              "      border: none;\n",
              "      border-radius: 50%;\n",
              "      cursor: pointer;\n",
              "      display: none;\n",
              "      fill: #1967D2;\n",
              "      height: 32px;\n",
              "      padding: 0 0 0 0;\n",
              "      width: 32px;\n",
              "    }\n",
              "\n",
              "    .colab-df-convert:hover {\n",
              "      background-color: #E2EBFA;\n",
              "      box-shadow: 0px 1px 2px rgba(60, 64, 67, 0.3), 0px 1px 3px 1px rgba(60, 64, 67, 0.15);\n",
              "      fill: #174EA6;\n",
              "    }\n",
              "\n",
              "    [theme=dark] .colab-df-convert {\n",
              "      background-color: #3B4455;\n",
              "      fill: #D2E3FC;\n",
              "    }\n",
              "\n",
              "    [theme=dark] .colab-df-convert:hover {\n",
              "      background-color: #434B5C;\n",
              "      box-shadow: 0px 1px 3px 1px rgba(0, 0, 0, 0.15);\n",
              "      filter: drop-shadow(0px 1px 2px rgba(0, 0, 0, 0.3));\n",
              "      fill: #FFFFFF;\n",
              "    }\n",
              "  </style>\n",
              "\n",
              "      <script>\n",
              "        const buttonEl =\n",
              "          document.querySelector('#df-3e7ec54b-32db-4cb8-9b4a-05628d192d0c button.colab-df-convert');\n",
              "        buttonEl.style.display =\n",
              "          google.colab.kernel.accessAllowed ? 'block' : 'none';\n",
              "\n",
              "        async function convertToInteractive(key) {\n",
              "          const element = document.querySelector('#df-3e7ec54b-32db-4cb8-9b4a-05628d192d0c');\n",
              "          const dataTable =\n",
              "            await google.colab.kernel.invokeFunction('convertToInteractive',\n",
              "                                                     [key], {});\n",
              "          if (!dataTable) return;\n",
              "\n",
              "          const docLinkHtml = 'Like what you see? Visit the ' +\n",
              "            '<a target=\"_blank\" href=https://colab.research.google.com/notebooks/data_table.ipynb>data table notebook</a>'\n",
              "            + ' to learn more about interactive tables.';\n",
              "          element.innerHTML = '';\n",
              "          dataTable['output_type'] = 'display_data';\n",
              "          await google.colab.output.renderOutput(dataTable, element);\n",
              "          const docLink = document.createElement('div');\n",
              "          docLink.innerHTML = docLinkHtml;\n",
              "          element.appendChild(docLink);\n",
              "        }\n",
              "      </script>\n",
              "    </div>\n",
              "  </div>\n",
              "  "
            ]
          },
          "metadata": {},
          "execution_count": 4
        }
      ]
    },
    {
      "cell_type": "code",
      "source": [
        "#counting values present in particular column\n",
        "tt_train.Survived.value_counts()"
      ],
      "metadata": {
        "colab": {
          "base_uri": "https://localhost:8080/"
        },
        "id": "14xGIJe7tq5e",
        "outputId": "411c2329-aea3-4901-884c-e939e943d512"
      },
      "execution_count": 5,
      "outputs": [
        {
          "output_type": "execute_result",
          "data": {
            "text/plain": [
              "0    549\n",
              "1    342\n",
              "Name: Survived, dtype: int64"
            ]
          },
          "metadata": {},
          "execution_count": 5
        }
      ]
    },
    {
      "cell_type": "code",
      "source": [
        "tt_train.Age.isnull().value_counts()"
      ],
      "metadata": {
        "colab": {
          "base_uri": "https://localhost:8080/"
        },
        "id": "J4KJli3zuFol",
        "outputId": "499faf4f-db93-439f-b678-e31050e2ae62"
      },
      "execution_count": 6,
      "outputs": [
        {
          "output_type": "execute_result",
          "data": {
            "text/plain": [
              "False    714\n",
              "True     177\n",
              "Name: Age, dtype: int64"
            ]
          },
          "metadata": {},
          "execution_count": 6
        }
      ]
    },
    {
      "cell_type": "code",
      "source": [
        "tt_train.Sex.value_counts()"
      ],
      "metadata": {
        "colab": {
          "base_uri": "https://localhost:8080/"
        },
        "id": "JSKdmSVmvfGi",
        "outputId": "017941e4-8a06-42da-ccf2-677b52b1ced1"
      },
      "execution_count": 7,
      "outputs": [
        {
          "output_type": "execute_result",
          "data": {
            "text/plain": [
              "male      577\n",
              "female    314\n",
              "Name: Sex, dtype: int64"
            ]
          },
          "metadata": {},
          "execution_count": 7
        }
      ]
    },
    {
      "cell_type": "code",
      "source": [
        "tt_train.Embarked.value_counts().isnull()"
      ],
      "metadata": {
        "colab": {
          "base_uri": "https://localhost:8080/"
        },
        "id": "FHgpUzK8vyVd",
        "outputId": "a1eb3ad7-6d98-44a6-adfc-6e3d86ee45e3"
      },
      "execution_count": 8,
      "outputs": [
        {
          "output_type": "execute_result",
          "data": {
            "text/plain": [
              "S    False\n",
              "C    False\n",
              "Q    False\n",
              "Name: Embarked, dtype: bool"
            ]
          },
          "metadata": {},
          "execution_count": 8
        }
      ]
    },
    {
      "cell_type": "code",
      "source": [
        "# % of null values or mean of (null values present in data set)\n",
        "tt_train.isnull().mean()  "
      ],
      "metadata": {
        "colab": {
          "base_uri": "https://localhost:8080/"
        },
        "id": "b4XYrRR4wEeX",
        "outputId": "886781a5-94a1-4468-dbbc-0ea8b9c9b9d3"
      },
      "execution_count": 9,
      "outputs": [
        {
          "output_type": "execute_result",
          "data": {
            "text/plain": [
              "PassengerId    0.000000\n",
              "Survived       0.000000\n",
              "Pclass         0.000000\n",
              "Name           0.000000\n",
              "Sex            0.000000\n",
              "Age            0.198653\n",
              "SibSp          0.000000\n",
              "Parch          0.000000\n",
              "Ticket         0.000000\n",
              "Fare           0.000000\n",
              "Cabin          0.771044\n",
              "Embarked       0.002245\n",
              "dtype: float64"
            ]
          },
          "metadata": {},
          "execution_count": 9
        }
      ]
    },
    {
      "cell_type": "code",
      "source": [
        "tt_train=tt_train.drop(\"Cabin\",axis=1)"
      ],
      "metadata": {
        "id": "ydNeQvrxwXN9"
      },
      "execution_count": 10,
      "outputs": []
    },
    {
      "cell_type": "code",
      "source": [
        "#removing insignificant columns \n",
        "tt_train=tt_train.drop([\"Ticket\",\"PassengerId\",\"Name\"],axis=1)"
      ],
      "metadata": {
        "id": "_KvItt0UwsKv"
      },
      "execution_count": 11,
      "outputs": []
    },
    {
      "cell_type": "code",
      "source": [
        "# function_created to fill missing values based on mean/mode of each pclass values\n",
        "def age_approx(cols):\n",
        "  Age=cols[0]\n",
        "  Pclass=cols[1]\n",
        "  if  pd.isnull(Age):\n",
        "       if Pclass==1:\n",
        "           return 37\n",
        "       elif Pclass==2:\n",
        "             return 29\n",
        "       else :\n",
        "              return 24\n",
        "  else:\n",
        "        return Age"
      ],
      "metadata": {
        "id": "Ga3QRyD_xRp9"
      },
      "execution_count": 12,
      "outputs": []
    },
    {
      "cell_type": "code",
      "source": [
        "tt_train.groupby(['Pclass']).mean()"
      ],
      "metadata": {
        "colab": {
          "base_uri": "https://localhost:8080/",
          "height": 175
        },
        "id": "CG_o-2SnPSP8",
        "outputId": "890fb9d6-a3c9-4342-b7c1-2e8e2355b43a"
      },
      "execution_count": 13,
      "outputs": [
        {
          "output_type": "execute_result",
          "data": {
            "text/plain": [
              "        Survived        Age     SibSp     Parch       Fare\n",
              "Pclass                                                    \n",
              "1       0.629630  38.233441  0.416667  0.356481  84.154687\n",
              "2       0.472826  29.877630  0.402174  0.380435  20.662183\n",
              "3       0.242363  25.140620  0.615071  0.393075  13.675550"
            ],
            "text/html": [
              "\n",
              "  <div id=\"df-fd23dd69-6745-463c-93f0-880f1437cc3b\">\n",
              "    <div class=\"colab-df-container\">\n",
              "      <div>\n",
              "<style scoped>\n",
              "    .dataframe tbody tr th:only-of-type {\n",
              "        vertical-align: middle;\n",
              "    }\n",
              "\n",
              "    .dataframe tbody tr th {\n",
              "        vertical-align: top;\n",
              "    }\n",
              "\n",
              "    .dataframe thead th {\n",
              "        text-align: right;\n",
              "    }\n",
              "</style>\n",
              "<table border=\"1\" class=\"dataframe\">\n",
              "  <thead>\n",
              "    <tr style=\"text-align: right;\">\n",
              "      <th></th>\n",
              "      <th>Survived</th>\n",
              "      <th>Age</th>\n",
              "      <th>SibSp</th>\n",
              "      <th>Parch</th>\n",
              "      <th>Fare</th>\n",
              "    </tr>\n",
              "    <tr>\n",
              "      <th>Pclass</th>\n",
              "      <th></th>\n",
              "      <th></th>\n",
              "      <th></th>\n",
              "      <th></th>\n",
              "      <th></th>\n",
              "    </tr>\n",
              "  </thead>\n",
              "  <tbody>\n",
              "    <tr>\n",
              "      <th>1</th>\n",
              "      <td>0.629630</td>\n",
              "      <td>38.233441</td>\n",
              "      <td>0.416667</td>\n",
              "      <td>0.356481</td>\n",
              "      <td>84.154687</td>\n",
              "    </tr>\n",
              "    <tr>\n",
              "      <th>2</th>\n",
              "      <td>0.472826</td>\n",
              "      <td>29.877630</td>\n",
              "      <td>0.402174</td>\n",
              "      <td>0.380435</td>\n",
              "      <td>20.662183</td>\n",
              "    </tr>\n",
              "    <tr>\n",
              "      <th>3</th>\n",
              "      <td>0.242363</td>\n",
              "      <td>25.140620</td>\n",
              "      <td>0.615071</td>\n",
              "      <td>0.393075</td>\n",
              "      <td>13.675550</td>\n",
              "    </tr>\n",
              "  </tbody>\n",
              "</table>\n",
              "</div>\n",
              "      <button class=\"colab-df-convert\" onclick=\"convertToInteractive('df-fd23dd69-6745-463c-93f0-880f1437cc3b')\"\n",
              "              title=\"Convert this dataframe to an interactive table.\"\n",
              "              style=\"display:none;\">\n",
              "        \n",
              "  <svg xmlns=\"http://www.w3.org/2000/svg\" height=\"24px\"viewBox=\"0 0 24 24\"\n",
              "       width=\"24px\">\n",
              "    <path d=\"M0 0h24v24H0V0z\" fill=\"none\"/>\n",
              "    <path d=\"M18.56 5.44l.94 2.06.94-2.06 2.06-.94-2.06-.94-.94-2.06-.94 2.06-2.06.94zm-11 1L8.5 8.5l.94-2.06 2.06-.94-2.06-.94L8.5 2.5l-.94 2.06-2.06.94zm10 10l.94 2.06.94-2.06 2.06-.94-2.06-.94-.94-2.06-.94 2.06-2.06.94z\"/><path d=\"M17.41 7.96l-1.37-1.37c-.4-.4-.92-.59-1.43-.59-.52 0-1.04.2-1.43.59L10.3 9.45l-7.72 7.72c-.78.78-.78 2.05 0 2.83L4 21.41c.39.39.9.59 1.41.59.51 0 1.02-.2 1.41-.59l7.78-7.78 2.81-2.81c.8-.78.8-2.07 0-2.86zM5.41 20L4 18.59l7.72-7.72 1.47 1.35L5.41 20z\"/>\n",
              "  </svg>\n",
              "      </button>\n",
              "      \n",
              "  <style>\n",
              "    .colab-df-container {\n",
              "      display:flex;\n",
              "      flex-wrap:wrap;\n",
              "      gap: 12px;\n",
              "    }\n",
              "\n",
              "    .colab-df-convert {\n",
              "      background-color: #E8F0FE;\n",
              "      border: none;\n",
              "      border-radius: 50%;\n",
              "      cursor: pointer;\n",
              "      display: none;\n",
              "      fill: #1967D2;\n",
              "      height: 32px;\n",
              "      padding: 0 0 0 0;\n",
              "      width: 32px;\n",
              "    }\n",
              "\n",
              "    .colab-df-convert:hover {\n",
              "      background-color: #E2EBFA;\n",
              "      box-shadow: 0px 1px 2px rgba(60, 64, 67, 0.3), 0px 1px 3px 1px rgba(60, 64, 67, 0.15);\n",
              "      fill: #174EA6;\n",
              "    }\n",
              "\n",
              "    [theme=dark] .colab-df-convert {\n",
              "      background-color: #3B4455;\n",
              "      fill: #D2E3FC;\n",
              "    }\n",
              "\n",
              "    [theme=dark] .colab-df-convert:hover {\n",
              "      background-color: #434B5C;\n",
              "      box-shadow: 0px 1px 3px 1px rgba(0, 0, 0, 0.15);\n",
              "      filter: drop-shadow(0px 1px 2px rgba(0, 0, 0, 0.3));\n",
              "      fill: #FFFFFF;\n",
              "    }\n",
              "  </style>\n",
              "\n",
              "      <script>\n",
              "        const buttonEl =\n",
              "          document.querySelector('#df-fd23dd69-6745-463c-93f0-880f1437cc3b button.colab-df-convert');\n",
              "        buttonEl.style.display =\n",
              "          google.colab.kernel.accessAllowed ? 'block' : 'none';\n",
              "\n",
              "        async function convertToInteractive(key) {\n",
              "          const element = document.querySelector('#df-fd23dd69-6745-463c-93f0-880f1437cc3b');\n",
              "          const dataTable =\n",
              "            await google.colab.kernel.invokeFunction('convertToInteractive',\n",
              "                                                     [key], {});\n",
              "          if (!dataTable) return;\n",
              "\n",
              "          const docLinkHtml = 'Like what you see? Visit the ' +\n",
              "            '<a target=\"_blank\" href=https://colab.research.google.com/notebooks/data_table.ipynb>data table notebook</a>'\n",
              "            + ' to learn more about interactive tables.';\n",
              "          element.innerHTML = '';\n",
              "          dataTable['output_type'] = 'display_data';\n",
              "          await google.colab.output.renderOutput(dataTable, element);\n",
              "          const docLink = document.createElement('div');\n",
              "          docLink.innerHTML = docLinkHtml;\n",
              "          element.appendChild(docLink);\n",
              "        }\n",
              "      </script>\n",
              "    </div>\n",
              "  </div>\n",
              "  "
            ]
          },
          "metadata": {},
          "execution_count": 13
        }
      ]
    },
    {
      "cell_type": "code",
      "source": [
        "# using age_approx to fill nan values\n",
        "tt_train['Age']=tt_train[[\"Age\",\"Pclass\"]].apply(age_approx,axis=1)"
      ],
      "metadata": {
        "id": "SRPMwYIzPsZQ"
      },
      "execution_count": 14,
      "outputs": []
    },
    {
      "cell_type": "code",
      "source": [
        "tt_train.isnull().sum()"
      ],
      "metadata": {
        "colab": {
          "base_uri": "https://localhost:8080/"
        },
        "id": "Uf1rhLCkSVq4",
        "outputId": "5fe109a2-f60e-4463-f478-dd0c0966d8d3"
      },
      "execution_count": 15,
      "outputs": [
        {
          "output_type": "execute_result",
          "data": {
            "text/plain": [
              "Survived    0\n",
              "Pclass      0\n",
              "Sex         0\n",
              "Age         0\n",
              "SibSp       0\n",
              "Parch       0\n",
              "Fare        0\n",
              "Embarked    2\n",
              "dtype: int64"
            ]
          },
          "metadata": {},
          "execution_count": 15
        }
      ]
    },
    {
      "cell_type": "code",
      "source": [
        "tt_train.dropna(inplace=True)"
      ],
      "metadata": {
        "id": "ihYqHR5TSte0"
      },
      "execution_count": 16,
      "outputs": []
    },
    {
      "cell_type": "code",
      "source": [
        "tt_train.isnull().sum()"
      ],
      "metadata": {
        "colab": {
          "base_uri": "https://localhost:8080/"
        },
        "id": "8B427H62Tkf0",
        "outputId": "cb0c1e08-b3e5-437b-85aa-10f7677b4a8b"
      },
      "execution_count": 17,
      "outputs": [
        {
          "output_type": "execute_result",
          "data": {
            "text/plain": [
              "Survived    0\n",
              "Pclass      0\n",
              "Sex         0\n",
              "Age         0\n",
              "SibSp       0\n",
              "Parch       0\n",
              "Fare        0\n",
              "Embarked    0\n",
              "dtype: int64"
            ]
          },
          "metadata": {},
          "execution_count": 17
        }
      ]
    },
    {
      "cell_type": "code",
      "source": [
        "tt_train.shape"
      ],
      "metadata": {
        "colab": {
          "base_uri": "https://localhost:8080/"
        },
        "id": "Dc6A4d72TpVy",
        "outputId": "06c20861-5d40-4c62-fa32-26c1ff708b7b"
      },
      "execution_count": 18,
      "outputs": [
        {
          "output_type": "execute_result",
          "data": {
            "text/plain": [
              "(889, 8)"
            ]
          },
          "metadata": {},
          "execution_count": 18
        }
      ]
    },
    {
      "cell_type": "code",
      "source": [
        "tt_train_dummied=pd.get_dummies(tt_train,columns=['Sex'])"
      ],
      "metadata": {
        "id": "u4fwx_TETwMT"
      },
      "execution_count": 19,
      "outputs": []
    },
    {
      "cell_type": "code",
      "source": [
        "tt_train_dummied=pd.get_dummies(tt_train_dummied,columns=[\"Embarked\"])"
      ],
      "metadata": {
        "id": "eL84gcGKVHmW"
      },
      "execution_count": 20,
      "outputs": []
    },
    {
      "cell_type": "code",
      "source": [
        "tt_train_dummied.head()"
      ],
      "metadata": {
        "colab": {
          "base_uri": "https://localhost:8080/",
          "height": 206
        },
        "id": "IJ8NnNO9V-Ax",
        "outputId": "43602bc8-d616-492c-933a-36aa9cce2500"
      },
      "execution_count": 21,
      "outputs": [
        {
          "output_type": "execute_result",
          "data": {
            "text/plain": [
              "   Survived  Pclass   Age  SibSp  Parch     Fare  Sex_female  Sex_male  \\\n",
              "0         0       3  22.0      1      0   7.2500           0         1   \n",
              "1         1       1  38.0      1      0  71.2833           1         0   \n",
              "2         1       3  26.0      0      0   7.9250           1         0   \n",
              "3         1       1  35.0      1      0  53.1000           1         0   \n",
              "4         0       3  35.0      0      0   8.0500           0         1   \n",
              "\n",
              "   Embarked_C  Embarked_Q  Embarked_S  \n",
              "0           0           0           1  \n",
              "1           1           0           0  \n",
              "2           0           0           1  \n",
              "3           0           0           1  \n",
              "4           0           0           1  "
            ],
            "text/html": [
              "\n",
              "  <div id=\"df-a1b3a5c1-6edd-4a27-b7fe-5bed06bc5267\">\n",
              "    <div class=\"colab-df-container\">\n",
              "      <div>\n",
              "<style scoped>\n",
              "    .dataframe tbody tr th:only-of-type {\n",
              "        vertical-align: middle;\n",
              "    }\n",
              "\n",
              "    .dataframe tbody tr th {\n",
              "        vertical-align: top;\n",
              "    }\n",
              "\n",
              "    .dataframe thead th {\n",
              "        text-align: right;\n",
              "    }\n",
              "</style>\n",
              "<table border=\"1\" class=\"dataframe\">\n",
              "  <thead>\n",
              "    <tr style=\"text-align: right;\">\n",
              "      <th></th>\n",
              "      <th>Survived</th>\n",
              "      <th>Pclass</th>\n",
              "      <th>Age</th>\n",
              "      <th>SibSp</th>\n",
              "      <th>Parch</th>\n",
              "      <th>Fare</th>\n",
              "      <th>Sex_female</th>\n",
              "      <th>Sex_male</th>\n",
              "      <th>Embarked_C</th>\n",
              "      <th>Embarked_Q</th>\n",
              "      <th>Embarked_S</th>\n",
              "    </tr>\n",
              "  </thead>\n",
              "  <tbody>\n",
              "    <tr>\n",
              "      <th>0</th>\n",
              "      <td>0</td>\n",
              "      <td>3</td>\n",
              "      <td>22.0</td>\n",
              "      <td>1</td>\n",
              "      <td>0</td>\n",
              "      <td>7.2500</td>\n",
              "      <td>0</td>\n",
              "      <td>1</td>\n",
              "      <td>0</td>\n",
              "      <td>0</td>\n",
              "      <td>1</td>\n",
              "    </tr>\n",
              "    <tr>\n",
              "      <th>1</th>\n",
              "      <td>1</td>\n",
              "      <td>1</td>\n",
              "      <td>38.0</td>\n",
              "      <td>1</td>\n",
              "      <td>0</td>\n",
              "      <td>71.2833</td>\n",
              "      <td>1</td>\n",
              "      <td>0</td>\n",
              "      <td>1</td>\n",
              "      <td>0</td>\n",
              "      <td>0</td>\n",
              "    </tr>\n",
              "    <tr>\n",
              "      <th>2</th>\n",
              "      <td>1</td>\n",
              "      <td>3</td>\n",
              "      <td>26.0</td>\n",
              "      <td>0</td>\n",
              "      <td>0</td>\n",
              "      <td>7.9250</td>\n",
              "      <td>1</td>\n",
              "      <td>0</td>\n",
              "      <td>0</td>\n",
              "      <td>0</td>\n",
              "      <td>1</td>\n",
              "    </tr>\n",
              "    <tr>\n",
              "      <th>3</th>\n",
              "      <td>1</td>\n",
              "      <td>1</td>\n",
              "      <td>35.0</td>\n",
              "      <td>1</td>\n",
              "      <td>0</td>\n",
              "      <td>53.1000</td>\n",
              "      <td>1</td>\n",
              "      <td>0</td>\n",
              "      <td>0</td>\n",
              "      <td>0</td>\n",
              "      <td>1</td>\n",
              "    </tr>\n",
              "    <tr>\n",
              "      <th>4</th>\n",
              "      <td>0</td>\n",
              "      <td>3</td>\n",
              "      <td>35.0</td>\n",
              "      <td>0</td>\n",
              "      <td>0</td>\n",
              "      <td>8.0500</td>\n",
              "      <td>0</td>\n",
              "      <td>1</td>\n",
              "      <td>0</td>\n",
              "      <td>0</td>\n",
              "      <td>1</td>\n",
              "    </tr>\n",
              "  </tbody>\n",
              "</table>\n",
              "</div>\n",
              "      <button class=\"colab-df-convert\" onclick=\"convertToInteractive('df-a1b3a5c1-6edd-4a27-b7fe-5bed06bc5267')\"\n",
              "              title=\"Convert this dataframe to an interactive table.\"\n",
              "              style=\"display:none;\">\n",
              "        \n",
              "  <svg xmlns=\"http://www.w3.org/2000/svg\" height=\"24px\"viewBox=\"0 0 24 24\"\n",
              "       width=\"24px\">\n",
              "    <path d=\"M0 0h24v24H0V0z\" fill=\"none\"/>\n",
              "    <path d=\"M18.56 5.44l.94 2.06.94-2.06 2.06-.94-2.06-.94-.94-2.06-.94 2.06-2.06.94zm-11 1L8.5 8.5l.94-2.06 2.06-.94-2.06-.94L8.5 2.5l-.94 2.06-2.06.94zm10 10l.94 2.06.94-2.06 2.06-.94-2.06-.94-.94-2.06-.94 2.06-2.06.94z\"/><path d=\"M17.41 7.96l-1.37-1.37c-.4-.4-.92-.59-1.43-.59-.52 0-1.04.2-1.43.59L10.3 9.45l-7.72 7.72c-.78.78-.78 2.05 0 2.83L4 21.41c.39.39.9.59 1.41.59.51 0 1.02-.2 1.41-.59l7.78-7.78 2.81-2.81c.8-.78.8-2.07 0-2.86zM5.41 20L4 18.59l7.72-7.72 1.47 1.35L5.41 20z\"/>\n",
              "  </svg>\n",
              "      </button>\n",
              "      \n",
              "  <style>\n",
              "    .colab-df-container {\n",
              "      display:flex;\n",
              "      flex-wrap:wrap;\n",
              "      gap: 12px;\n",
              "    }\n",
              "\n",
              "    .colab-df-convert {\n",
              "      background-color: #E8F0FE;\n",
              "      border: none;\n",
              "      border-radius: 50%;\n",
              "      cursor: pointer;\n",
              "      display: none;\n",
              "      fill: #1967D2;\n",
              "      height: 32px;\n",
              "      padding: 0 0 0 0;\n",
              "      width: 32px;\n",
              "    }\n",
              "\n",
              "    .colab-df-convert:hover {\n",
              "      background-color: #E2EBFA;\n",
              "      box-shadow: 0px 1px 2px rgba(60, 64, 67, 0.3), 0px 1px 3px 1px rgba(60, 64, 67, 0.15);\n",
              "      fill: #174EA6;\n",
              "    }\n",
              "\n",
              "    [theme=dark] .colab-df-convert {\n",
              "      background-color: #3B4455;\n",
              "      fill: #D2E3FC;\n",
              "    }\n",
              "\n",
              "    [theme=dark] .colab-df-convert:hover {\n",
              "      background-color: #434B5C;\n",
              "      box-shadow: 0px 1px 3px 1px rgba(0, 0, 0, 0.15);\n",
              "      filter: drop-shadow(0px 1px 2px rgba(0, 0, 0, 0.3));\n",
              "      fill: #FFFFFF;\n",
              "    }\n",
              "  </style>\n",
              "\n",
              "      <script>\n",
              "        const buttonEl =\n",
              "          document.querySelector('#df-a1b3a5c1-6edd-4a27-b7fe-5bed06bc5267 button.colab-df-convert');\n",
              "        buttonEl.style.display =\n",
              "          google.colab.kernel.accessAllowed ? 'block' : 'none';\n",
              "\n",
              "        async function convertToInteractive(key) {\n",
              "          const element = document.querySelector('#df-a1b3a5c1-6edd-4a27-b7fe-5bed06bc5267');\n",
              "          const dataTable =\n",
              "            await google.colab.kernel.invokeFunction('convertToInteractive',\n",
              "                                                     [key], {});\n",
              "          if (!dataTable) return;\n",
              "\n",
              "          const docLinkHtml = 'Like what you see? Visit the ' +\n",
              "            '<a target=\"_blank\" href=https://colab.research.google.com/notebooks/data_table.ipynb>data table notebook</a>'\n",
              "            + ' to learn more about interactive tables.';\n",
              "          element.innerHTML = '';\n",
              "          dataTable['output_type'] = 'display_data';\n",
              "          await google.colab.output.renderOutput(dataTable, element);\n",
              "          const docLink = document.createElement('div');\n",
              "          docLink.innerHTML = docLinkHtml;\n",
              "          element.appendChild(docLink);\n",
              "        }\n",
              "      </script>\n",
              "    </div>\n",
              "  </div>\n",
              "  "
            ]
          },
          "metadata": {},
          "execution_count": 21
        }
      ]
    },
    {
      "cell_type": "code",
      "source": [
        "# checking corr of features with each-others\n",
        "plt.figure(figsize=(6,8))\n",
        "sns.heatmap(tt_train_dummied.corr())"
      ],
      "metadata": {
        "colab": {
          "base_uri": "https://localhost:8080/",
          "height": 604
        },
        "id": "WBqgrXoXWIco",
        "outputId": "f5580fb4-886e-4e36-bc5e-722cdcc3ad28"
      },
      "execution_count": 22,
      "outputs": [
        {
          "output_type": "execute_result",
          "data": {
            "text/plain": [
              "<AxesSubplot:>"
            ]
          },
          "metadata": {},
          "execution_count": 22
        },
        {
          "output_type": "display_data",
          "data": {
            "text/plain": [
              "<Figure size 432x576 with 2 Axes>"
            ],
            "image/png": "[encoded data removed]"
          },
          "metadata": {}
        }
      ]
    },
    {
      "cell_type": "code",
      "source": [
        "uses_features=[\"Pclass\",\"Age\",\"SibSp\",\"Parch\",\"Sex_female\",\"Sex_male\",\"Embarked_C\",\"Embarked_Q\",\"Embarked_S\"]"
      ],
      "metadata": {
        "id": "RQmX8wrUXsTU"
      },
      "execution_count": 23,
      "outputs": []
    },
    {
      "cell_type": "code",
      "source": [
        "x=tt_train_dummied[uses_features].values\n",
        "y=tt_train_dummied[\"Survived\"]"
      ],
      "metadata": {
        "id": "7DeszHNhZMla"
      },
      "execution_count": 24,
      "outputs": []
    },
    {
      "cell_type": "code",
      "source": [
        "# spliting data into test,train datasets\n",
        "x_train,x_test,y_train,y_test =train_test_split(x,y,test_size=0.3,random_state=1)"
      ],
      "metadata": {
        "id": "fzgHlXIrZzN3"
      },
      "execution_count": 30,
      "outputs": []
    },
    {
      "cell_type": "code",
      "source": [
        "print(x_train.shape)"
      ],
      "metadata": {
        "colab": {
          "base_uri": "https://localhost:8080/"
        },
        "id": "uj3_QnwuHbeN",
        "outputId": "3a37692a-42e1-45cc-d908-8470878e7abe"
      },
      "execution_count": 31,
      "outputs": [
        {
          "output_type": "stream",
          "name": "stdout",
          "text": [
            "(622, 9)\n"
          ]
        }
      ]
    },
    {
      "cell_type": "code",
      "source": [
        "print(x_test.shape)"
      ],
      "metadata": {
        "colab": {
          "base_uri": "https://localhost:8080/"
        },
        "id": "0tFcowjaHg3z",
        "outputId": "0127d5cc-c205-4911-c284-6e740975a1ed"
      },
      "execution_count": 32,
      "outputs": [
        {
          "output_type": "stream",
          "name": "stdout",
          "text": [
            "(267, 9)\n"
          ]
        }
      ]
    },
    {
      "cell_type": "code",
      "source": [
        "#using logistc_regression\n",
        "log_reg=LogisticRegression()"
      ],
      "metadata": {
        "id": "wT_uAhXRHkTA"
      },
      "execution_count": 33,
      "outputs": []
    },
    {
      "cell_type": "code",
      "source": [
        "# fitting vlues in our logistic_regression model\n",
        "log_reg.fit(x_train,y_train)"
      ],
      "metadata": {
        "colab": {
          "base_uri": "https://localhost:8080/",
          "height": 234
        },
        "id": "yGdk1ub2H01l",
        "outputId": "e50fbfae-50e4-40a6-c8d9-552bdf8f5390"
      },
      "execution_count": 34,
      "outputs": [
        {
          "output_type": "stream",
          "name": "stderr",
          "text": [
            "/usr/local/lib/python3.8/dist-packages/sklearn/linear_model/_logistic.py:458: ConvergenceWarning: lbfgs failed to converge (status=1):\n",
            "STOP: TOTAL NO. of ITERATIONS REACHED LIMIT.\n",
            "\n",
            "Increase the number of iterations (max_iter) or scale the data as shown in:\n",
            "    https://scikit-learn.org/stable/modules/preprocessing.html\n",
            "Please also refer to the documentation for alternative solver options:\n",
            "    https://scikit-learn.org/stable/modules/linear_model.html#logistic-regression\n",
            "  n_iter_i = _check_optimize_result(\n"
          ]
        },
        {
          "output_type": "execute_result",
          "data": {
            "text/plain": [
              "LogisticRegression()"
            ],
            "text/html": [
              "<style>#sk-container-id-1 {color: black;background-color: white;}#sk-container-id-1 pre{padding: 0;}#sk-container-id-1 div.sk-toggleable {background-color: white;}#sk-container-id-1 label.sk-toggleable__label {cursor: pointer;display: block;width: 100%;margin-bottom: 0;padding: 0.3em;box-sizing: border-box;text-align: center;}#sk-container-id-1 label.sk-toggleable__label-arrow:before {content: \"▸\";float: left;margin-right: 0.25em;color: #696969;}#sk-container-id-1 label.sk-toggleable__label-arrow:hover:before {color: black;}#sk-container-id-1 div.sk-estimator:hover label.sk-toggleable__label-arrow:before {color: black;}#sk-container-id-1 div.sk-toggleable__content {max-height: 0;max-width: 0;overflow: hidden;text-align: left;background-color: #f0f8ff;}#sk-container-id-1 div.sk-toggleable__content pre {margin: 0.2em;color: black;border-radius: 0.25em;background-color: #f0f8ff;}#sk-container-id-1 input.sk-toggleable__control:checked~div.sk-toggleable__content {max-height: 200px;max-width: 100%;overflow: auto;}#sk-container-id-1 input.sk-toggleable__control:checked~label.sk-toggleable__label-arrow:before {content: \"▾\";}#sk-container-id-1 div.sk-estimator input.sk-toggleable__control:checked~label.sk-toggleable__label {background-color: #d4ebff;}#sk-container-id-1 div.sk-label input.sk-toggleable__control:checked~label.sk-toggleable__label {background-color: #d4ebff;}#sk-container-id-1 input.sk-hidden--visually {border: 0;clip: rect(1px 1px 1px 1px);clip: rect(1px, 1px, 1px, 1px);height: 1px;margin: -1px;overflow: hidden;padding: 0;position: absolute;width: 1px;}#sk-container-id-1 div.sk-estimator {font-family: monospace;background-color: #f0f8ff;border: 1px dotted black;border-radius: 0.25em;box-sizing: border-box;margin-bottom: 0.5em;}#sk-container-id-1 div.sk-estimator:hover {background-color: #d4ebff;}#sk-container-id-1 div.sk-parallel-item::after {content: \"\";width: 100%;border-bottom: 1px solid gray;flex-grow: 1;}#sk-container-id-1 div.sk-label:hover label.sk-toggleable__label {background-color: #d4ebff;}#sk-container-id-1 div.sk-serial::before {content: \"\";position: absolute;border-left: 1px solid gray;box-sizing: border-box;top: 0;bottom: 0;left: 50%;z-index: 0;}#sk-container-id-1 div.sk-serial {display: flex;flex-direction: column;align-items: center;background-color: white;padding-right: 0.2em;padding-left: 0.2em;position: relative;}#sk-container-id-1 div.sk-item {position: relative;z-index: 1;}#sk-container-id-1 div.sk-parallel {display: flex;align-items: stretch;justify-content: center;background-color: white;position: relative;}#sk-container-id-1 div.sk-item::before, #sk-container-id-1 div.sk-parallel-item::before {content: \"\";position: absolute;border-left: 1px solid gray;box-sizing: border-box;top: 0;bottom: 0;left: 50%;z-index: -1;}#sk-container-id-1 div.sk-parallel-item {display: flex;flex-direction: column;z-index: 1;position: relative;background-color: white;}#sk-container-id-1 div.sk-parallel-item:first-child::after {align-self: flex-end;width: 50%;}#sk-container-id-1 div.sk-parallel-item:last-child::after {align-self: flex-start;width: 50%;}#sk-container-id-1 div.sk-parallel-item:only-child::after {width: 0;}#sk-container-id-1 div.sk-dashed-wrapped {border: 1px dashed gray;margin: 0 0.4em 0.5em 0.4em;box-sizing: border-box;padding-bottom: 0.4em;background-color: white;}#sk-container-id-1 div.sk-label label {font-family: monospace;font-weight: bold;display: inline-block;line-height: 1.2em;}#sk-container-id-1 div.sk-label-container {text-align: center;}#sk-container-id-1 div.sk-container {/* jupyter's `normalize.less` sets `[hidden] { display: none; }` but bootstrap.min.css set `[hidden] { display: none !important; }` so we also need the `!important` here to be able to override the default hidden behavior on the sphinx rendered scikit-learn.org. See: https://github.com/scikit-learn/scikit-learn/issues/21755 */display: inline-block !important;position: relative;}#sk-container-id-1 div.sk-text-repr-fallback {display: none;}</style><div id=\"sk-container-id-1\" class=\"sk-top-container\"><div class=\"sk-text-repr-fallback\"><pre>LogisticRegression()</pre><b>In a Jupyter environment, please rerun this cell to show the HTML representation or trust the notebook. <br />On GitHub, the HTML representation is unable to render, please try loading this page with nbviewer.org.</b></div><div class=\"sk-container\" hidden><div class=\"sk-item\"><div class=\"sk-estimator sk-toggleable\"><input class=\"sk-toggleable__control sk-hidden--visually\" id=\"sk-estimator-id-1\" type=\"checkbox\" checked><label for=\"sk-estimator-id-1\" class=\"sk-toggleable__label sk-toggleable__label-arrow\">LogisticRegression</label><div class=\"sk-toggleable__content\"><pre>LogisticRegression()</pre></div></div></div></div></div>"
            ]
          },
          "metadata": {},
          "execution_count": 34
        }
      ]
    },
    {
      "cell_type": "code",
      "source": [
        "pred_y=log_reg.predict(x_test)"
      ],
      "metadata": {
        "id": "Z3WDH2HQH8La"
      },
      "execution_count": 35,
      "outputs": []
    },
    {
      "cell_type": "code",
      "source": [
        "# values confusion_matrix\n",
        "metrics.confusion_matrix(y_test,pred_y)"
      ],
      "metadata": {
        "colab": {
          "base_uri": "https://localhost:8080/"
        },
        "id": "DtaFgfpaIn68",
        "outputId": "824c701f-32dc-4ec6-82de-7af5d5ba5b90"
      },
      "execution_count": 36,
      "outputs": [
        {
          "output_type": "execute_result",
          "data": {
            "text/plain": [
              "array([[143,  23],\n",
              "       [ 22,  79]])"
            ]
          },
          "metadata": {},
          "execution_count": 36
        }
      ]
    },
    {
      "cell_type": "code",
      "source": [
        "# accuracy checking\n",
        "metrics.accuracy_score(y_test,pred_y)"
      ],
      "metadata": {
        "colab": {
          "base_uri": "https://localhost:8080/"
        },
        "id": "I5Aix-5YI0ER",
        "outputId": "f961a175-1590-4435-ffcd-8b3fe92da4da"
      },
      "execution_count": 38,
      "outputs": [
        {
          "output_type": "execute_result",
          "data": {
            "text/plain": [
              "0.8314606741573034"
            ]
          },
          "metadata": {},
          "execution_count": 38
        }
      ]
    },
    {
      "cell_type": "code",
      "source": [
        "#classification_report\n",
        "print(classification_report(y_test,pred_y))"
      ],
      "metadata": {
        "colab": {
          "base_uri": "https://localhost:8080/"
        },
        "id": "AQodZDRNJCvJ",
        "outputId": "63e87d4d-3f62-452b-f150-9dcc38adc54a"
      },
      "execution_count": 41,
      "outputs": [
        {
          "output_type": "stream",
          "name": "stdout",
          "text": [
            "              precision    recall  f1-score   support\n",
            "\n",
            "           0       0.87      0.86      0.86       166\n",
            "           1       0.77      0.78      0.78       101\n",
            "\n",
            "    accuracy                           0.83       267\n",
            "   macro avg       0.82      0.82      0.82       267\n",
            "weighted avg       0.83      0.83      0.83       267\n",
            "\n"
          ]
        }
      ]
    },
    {
      "cell_type": "code",
      "source": [
        "log_reg.coef_"
      ],
      "metadata": {
        "colab": {
          "base_uri": "https://localhost:8080/"
        },
        "id": "28oEbTX7JU1A",
        "outputId": "30462126-0873-47f1-a821-a1b0996974c9"
      },
      "execution_count": 42,
      "outputs": [
        {
          "output_type": "execute_result",
          "data": {
            "text/plain": [
              "array([[-1.04114276, -0.03978964, -0.24192014, -0.04083551,  1.20988747,\n",
              "        -1.17825117,  0.3591641 , -0.02652942, -0.30099837]])"
            ]
          },
          "metadata": {},
          "execution_count": 42
        }
      ]
    },
    {
      "cell_type": "code",
      "source": [
        "log_reg.intercept_"
      ],
      "metadata": {
        "colab": {
          "base_uri": "https://localhost:8080/"
        },
        "id": "gLKgyP9IJlbn",
        "outputId": "d18e92c8-1588-4c43-c9d9-096d1956a054"
      },
      "execution_count": 43,
      "outputs": [
        {
          "output_type": "execute_result",
          "data": {
            "text/plain": [
              "array([3.62417807])"
            ]
          },
          "metadata": {},
          "execution_count": 43
        }
      ]
    },
    {
      "cell_type": "code",
      "source": [
        "tt_train_dummied[uses_features].columns"
      ],
      "metadata": {
        "colab": {
          "base_uri": "https://localhost:8080/"
        },
        "id": "cXRCiK5sJqrD",
        "outputId": "ba308ffc-2db5-4f2a-d224-0334a2faccc7"
      },
      "execution_count": 44,
      "outputs": [
        {
          "output_type": "execute_result",
          "data": {
            "text/plain": [
              "Index(['Pclass', 'Age', 'SibSp', 'Parch', 'Sex_female', 'Sex_male',\n",
              "       'Embarked_C', 'Embarked_Q', 'Embarked_S'],\n",
              "      dtype='object')"
            ]
          },
          "metadata": {},
          "execution_count": 44
        }
      ]
    },
    {
      "cell_type": "code",
      "source": [
        "log_reg.predict_proba(x_test)"
      ],
      "metadata": {
        "colab": {
          "base_uri": "https://localhost:8080/"
        },
        "id": "Fv0lLiZWKB5W",
        "outputId": "4f90db20-64a4-4ea9-d373-4eef3617a5af"
      },
      "execution_count": 46,
      "outputs": [
        {
          "output_type": "execute_result",
          "data": {
            "text/plain": [
              "array([[0.26534805, 0.73465195],\n",
              "       [0.39640574, 0.60359426],\n",
              "       [0.94727015, 0.05272985],\n",
              "       [0.25971055, 0.74028945],\n",
              "       [0.94410838, 0.05589162],\n",
              "       [0.13501028, 0.86498972],\n",
              "       [0.33327153, 0.66672847],\n",
              "       [0.51934004, 0.48065996],\n",
              "       [0.7820268 , 0.2179732 ],\n",
              "       [0.40730729, 0.59269271],\n",
              "       [0.73978569, 0.26021431],\n",
              "       [0.21202666, 0.78797334],\n",
              "       [0.74861829, 0.25138171],\n",
              "       [0.14592238, 0.85407762],\n",
              "       [0.86458107, 0.13541893],\n",
              "       [0.3695223 , 0.6304777 ],\n",
              "       [0.89366781, 0.10633219],\n",
              "       [0.29750737, 0.70249263],\n",
              "       [0.17621106, 0.82378894],\n",
              "       [0.39941143, 0.60058857],\n",
              "       [0.90480296, 0.09519704],\n",
              "       [0.5529148 , 0.4470852 ],\n",
              "       [0.86417901, 0.13582099],\n",
              "       [0.93746527, 0.06253473],\n",
              "       [0.51658775, 0.48341225],\n",
              "       [0.51563938, 0.48436062],\n",
              "       [0.03927366, 0.96072634],\n",
              "       [0.86917246, 0.13082754],\n",
              "       [0.89801595, 0.10198405],\n",
              "       [0.32537988, 0.67462012],\n",
              "       [0.38824687, 0.61175313],\n",
              "       [0.40822435, 0.59177565],\n",
              "       [0.15514847, 0.84485153],\n",
              "       [0.41520026, 0.58479974],\n",
              "       [0.59107981, 0.40892019],\n",
              "       [0.16586803, 0.83413197],\n",
              "       [0.6570422 , 0.3429578 ],\n",
              "       [0.87363092, 0.12636908],\n",
              "       [0.24351664, 0.75648336],\n",
              "       [0.57594747, 0.42405253],\n",
              "       [0.43692594, 0.56307406],\n",
              "       [0.91116295, 0.08883705],\n",
              "       [0.31687699, 0.68312301],\n",
              "       [0.87363092, 0.12636908],\n",
              "       [0.79627477, 0.20372523],\n",
              "       [0.23549965, 0.76450035],\n",
              "       [0.17050938, 0.82949062],\n",
              "       [0.81595112, 0.18404888],\n",
              "       [0.06088671, 0.93911329],\n",
              "       [0.92347358, 0.07652642],\n",
              "       [0.87363092, 0.12636908],\n",
              "       [0.42758004, 0.57241996],\n",
              "       [0.88399971, 0.11600029],\n",
              "       [0.09126924, 0.90873076],\n",
              "       [0.74861829, 0.25138171],\n",
              "       [0.0707177 , 0.9292823 ],\n",
              "       [0.77737173, 0.22262827],\n",
              "       [0.9514962 , 0.0485038 ],\n",
              "       [0.70109525, 0.29890475],\n",
              "       [0.93702943, 0.06297057],\n",
              "       [0.81495609, 0.18504391],\n",
              "       [0.85985453, 0.14014547],\n",
              "       [0.59107981, 0.40892019],\n",
              "       [0.87363092, 0.12636908],\n",
              "       [0.42758004, 0.57241996],\n",
              "       [0.23626174, 0.76373826],\n",
              "       [0.87363092, 0.12636908],\n",
              "       [0.91144017, 0.08855983],\n",
              "       [0.84466753, 0.15533247],\n",
              "       [0.05446234, 0.94553766],\n",
              "       [0.86389371, 0.13610629],\n",
              "       [0.05654806, 0.94345194],\n",
              "       [0.65230346, 0.34769654],\n",
              "       [0.85985453, 0.14014547],\n",
              "       [0.31440252, 0.68559748],\n",
              "       [0.13501028, 0.86498972],\n",
              "       [0.84010134, 0.15989866],\n",
              "       [0.92369817, 0.07630183],\n",
              "       [0.82578502, 0.17421498],\n",
              "       [0.83320609, 0.16679391],\n",
              "       [0.84010134, 0.15989866],\n",
              "       [0.86458107, 0.13541893],\n",
              "       [0.03927366, 0.96072634],\n",
              "       [0.06003059, 0.93996941],\n",
              "       [0.76329608, 0.23670392],\n",
              "       [0.61958803, 0.38041197],\n",
              "       [0.4389767 , 0.5610233 ],\n",
              "       [0.42783604, 0.57216396],\n",
              "       [0.87363092, 0.12636908],\n",
              "       [0.3695223 , 0.6304777 ],\n",
              "       [0.89772413, 0.10227587],\n",
              "       [0.32537988, 0.67462012],\n",
              "       [0.93418625, 0.06581375],\n",
              "       [0.78130521, 0.21869479],\n",
              "       [0.24696782, 0.75303218],\n",
              "       [0.83909286, 0.16090714],\n",
              "       [0.22957887, 0.77042113],\n",
              "       [0.27465047, 0.72534953],\n",
              "       [0.24696782, 0.75303218],\n",
              "       [0.21469024, 0.78530976],\n",
              "       [0.8499875 , 0.1500125 ],\n",
              "       [0.34240617, 0.65759383],\n",
              "       [0.60613492, 0.39386508],\n",
              "       [0.85499069, 0.14500931],\n",
              "       [0.85499069, 0.14500931],\n",
              "       [0.90598287, 0.09401713],\n",
              "       [0.136545  , 0.863455  ],\n",
              "       [0.8499875 , 0.1500125 ],\n",
              "       [0.76740384, 0.23259616],\n",
              "       [0.81595112, 0.18404888],\n",
              "       [0.63889274, 0.36110726],\n",
              "       [0.74861829, 0.25138171],\n",
              "       [0.78130521, 0.21869479],\n",
              "       [0.18649363, 0.81350637],\n",
              "       [0.35975211, 0.64024789],\n",
              "       [0.08623423, 0.91376577],\n",
              "       [0.91575026, 0.08424974],\n",
              "       [0.40730729, 0.59269271],\n",
              "       [0.06417168, 0.93582832],\n",
              "       [0.79083973, 0.20916027],\n",
              "       [0.87795879, 0.12204121],\n",
              "       [0.20649603, 0.79350397],\n",
              "       [0.32537988, 0.67462012],\n",
              "       [0.50258104, 0.49741896],\n",
              "       [0.20766543, 0.79233457],\n",
              "       [0.89211263, 0.10788737],\n",
              "       [0.44340168, 0.55659832],\n",
              "       [0.9096658 , 0.0903342 ],\n",
              "       [0.88215842, 0.11784158],\n",
              "       [0.57735104, 0.42264896],\n",
              "       [0.44700794, 0.55299206],\n",
              "       [0.60613492, 0.39386508],\n",
              "       [0.87863433, 0.12136567],\n",
              "       [0.59107981, 0.40892019],\n",
              "       [0.3695223 , 0.6304777 ],\n",
              "       [0.07085822, 0.92914178],\n",
              "       [0.85985453, 0.14014547],\n",
              "       [0.92623857, 0.07376143],\n",
              "       [0.87363092, 0.12636908],\n",
              "       [0.89018281, 0.10981719],\n",
              "       [0.85905585, 0.14094415],\n",
              "       [0.31508888, 0.68491112],\n",
              "       [0.92347358, 0.07652642],\n",
              "       [0.38900296, 0.61099704],\n",
              "       [0.59107981, 0.40892019],\n",
              "       [0.69259474, 0.30740526],\n",
              "       [0.18015712, 0.81984288],\n",
              "       [0.10699891, 0.89300109],\n",
              "       [0.07889954, 0.92110046],\n",
              "       [0.92945661, 0.07054339],\n",
              "       [0.85718775, 0.14281225],\n",
              "       [0.9364015 , 0.0635985 ],\n",
              "       [0.14249702, 0.85750298],\n",
              "       [0.8499875 , 0.1500125 ],\n",
              "       [0.37973347, 0.62026653],\n",
              "       [0.3695223 , 0.6304777 ],\n",
              "       [0.78974392, 0.21025608],\n",
              "       [0.37223789, 0.62776211],\n",
              "       [0.89018281, 0.10981719],\n",
              "       [0.87363092, 0.12636908],\n",
              "       [0.50258104, 0.49741896],\n",
              "       [0.77040962, 0.22959038],\n",
              "       [0.57735104, 0.42264896],\n",
              "       [0.86999363, 0.13000637],\n",
              "       [0.87289915, 0.12710085],\n",
              "       [0.83412296, 0.16587704],\n",
              "       [0.13692063, 0.86307937],\n",
              "       [0.0595552 , 0.9404448 ],\n",
              "       [0.77847127, 0.22152873],\n",
              "       [0.23645051, 0.76354949],\n",
              "       [0.8499875 , 0.1500125 ],\n",
              "       [0.89907692, 0.10092308],\n",
              "       [0.84010134, 0.15989866],\n",
              "       [0.87363092, 0.12636908],\n",
              "       [0.68048974, 0.31951026],\n",
              "       [0.29140376, 0.70859624],\n",
              "       [0.86458107, 0.13541893],\n",
              "       [0.70936632, 0.29063368],\n",
              "       [0.87363092, 0.12636908],\n",
              "       [0.8499875 , 0.1500125 ],\n",
              "       [0.84010134, 0.15989866],\n",
              "       [0.87363092, 0.12636908],\n",
              "       [0.65147342, 0.34852658],\n",
              "       [0.93236824, 0.06763176],\n",
              "       [0.32537988, 0.67462012],\n",
              "       [0.82668955, 0.17331045],\n",
              "       [0.38054486, 0.61945514],\n",
              "       [0.58142877, 0.41857123],\n",
              "       [0.22780758, 0.77219242],\n",
              "       [0.90480296, 0.09519704],\n",
              "       [0.75539878, 0.24460122],\n",
              "       [0.71680504, 0.28319496],\n",
              "       [0.86458107, 0.13541893],\n",
              "       [0.76387056, 0.23612944],\n",
              "       [0.93665284, 0.06334716],\n",
              "       [0.74737193, 0.25262807],\n",
              "       [0.8987878 , 0.1012122 ],\n",
              "       [0.28920814, 0.71079186],\n",
              "       [0.59107981, 0.40892019],\n",
              "       [0.06572754, 0.93427246],\n",
              "       [0.70189329, 0.29810671],\n",
              "       [0.18304826, 0.81695174],\n",
              "       [0.77869423, 0.22130577],\n",
              "       [0.54794135, 0.45205865],\n",
              "       [0.04765204, 0.95234796],\n",
              "       [0.89018281, 0.10981719],\n",
              "       [0.87581103, 0.12418897],\n",
              "       [0.3222924 , 0.6777076 ],\n",
              "       [0.81035863, 0.18964137],\n",
              "       [0.08802235, 0.91197765],\n",
              "       [0.84010134, 0.15989866],\n",
              "       [0.74105651, 0.25894349],\n",
              "       [0.78130521, 0.21869479],\n",
              "       [0.76740384, 0.23259616],\n",
              "       [0.30878311, 0.69121689],\n",
              "       [0.1948757 , 0.8051243 ],\n",
              "       [0.75603194, 0.24396806],\n",
              "       [0.19326407, 0.80673593],\n",
              "       [0.91459973, 0.08540027],\n",
              "       [0.69196019, 0.30803981],\n",
              "       [0.86999363, 0.13000637],\n",
              "       [0.49786375, 0.50213625],\n",
              "       [0.67031756, 0.32968244],\n",
              "       [0.22147484, 0.77852516],\n",
              "       [0.24332403, 0.75667597],\n",
              "       [0.86458107, 0.13541893],\n",
              "       [0.57436721, 0.42563279],\n",
              "       [0.84010134, 0.15989866],\n",
              "       [0.78802782, 0.21197218],\n",
              "       [0.74881506, 0.25118494],\n",
              "       [0.38054486, 0.61945514],\n",
              "       [0.29464505, 0.70535495],\n",
              "       [0.46727279, 0.53272721],\n",
              "       [0.84010134, 0.15989866],\n",
              "       [0.89772413, 0.10227587],\n",
              "       [0.89049352, 0.10950648],\n",
              "       [0.87363092, 0.12636908],\n",
              "       [0.79854006, 0.20145994],\n",
              "       [0.35403608, 0.64596392],\n",
              "       [0.87795879, 0.12204121],\n",
              "       [0.29750737, 0.70249263],\n",
              "       [0.84010134, 0.15989866],\n",
              "       [0.8499875 , 0.1500125 ],\n",
              "       [0.67102044, 0.32897956],\n",
              "       [0.51669531, 0.48330469],\n",
              "       [0.09873009, 0.90126991],\n",
              "       [0.13356403, 0.86643597],\n",
              "       [0.79730529, 0.20269471],\n",
              "       [0.69128147, 0.30871853],\n",
              "       [0.87398183, 0.12601817],\n",
              "       [0.24171691, 0.75828309],\n",
              "       [0.32537988, 0.67462012],\n",
              "       [0.39773831, 0.60226169],\n",
              "       [0.9410374 , 0.0589626 ],\n",
              "       [0.10916615, 0.89083385],\n",
              "       [0.22600006, 0.77399994],\n",
              "       [0.88215842, 0.11784158],\n",
              "       [0.90480296, 0.09519704],\n",
              "       [0.03935266, 0.96064734],\n",
              "       [0.78130521, 0.21869479],\n",
              "       [0.20157794, 0.79842206],\n",
              "       [0.87407831, 0.12592169],\n",
              "       [0.65727783, 0.34272217],\n",
              "       [0.87363092, 0.12636908],\n",
              "       [0.29464505, 0.70535495],\n",
              "       [0.84010134, 0.15989866],\n",
              "       [0.91186495, 0.08813505]])"
            ]
          },
          "metadata": {},
          "execution_count": 46
        }
      ]
    },
    {
      "cell_type": "code",
      "source": [],
      "metadata": {
        "id": "V95nOxAwKRCo"
      },
      "execution_count": null,
      "outputs": []
    }
  ]
}